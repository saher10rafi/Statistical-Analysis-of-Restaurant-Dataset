{
 "cells": [
  {
   "cell_type": "code",
   "execution_count": 1,
   "metadata": {},
   "outputs": [],
   "source": [
    "import numpy as np\n",
    "import pandas as pd\n",
    "import matplotlib.pyplot as plt\n",
    "import seaborn as sns\n",
    "df = pd.read_csv('update.csv')\n",
    "dataset = df.copy()"
   ]
  },
  {
   "cell_type": "code",
   "execution_count": 2,
   "metadata": {
    "scrolled": true
   },
   "outputs": [
    {
     "name": "stdout",
     "output_type": "stream",
     "text": [
      "<class 'pandas.core.frame.DataFrame'>\n",
      "RangeIndex: 7442 entries, 0 to 7441\n",
      "Data columns (total 7 columns):\n",
      "Unnamed: 0         7442 non-null int64\n",
      "restaurant_name    7442 non-null object\n",
      "Location           7442 non-null object\n",
      "Cuisine            7442 non-null object\n",
      "Price for 2        7442 non-null int64\n",
      "Ratings            4807 non-null float64\n",
      "Votes              4803 non-null float64\n",
      "dtypes: float64(2), int64(2), object(3)\n",
      "memory usage: 407.1+ KB\n"
     ]
    }
   ],
   "source": [
    "df.info()"
   ]
  },
  {
   "cell_type": "code",
   "execution_count": 3,
   "metadata": {},
   "outputs": [
    {
     "data": {
      "text/html": [
       "<div>\n",
       "<style scoped>\n",
       "    .dataframe tbody tr th:only-of-type {\n",
       "        vertical-align: middle;\n",
       "    }\n",
       "\n",
       "    .dataframe tbody tr th {\n",
       "        vertical-align: top;\n",
       "    }\n",
       "\n",
       "    .dataframe thead th {\n",
       "        text-align: right;\n",
       "    }\n",
       "</style>\n",
       "<table border=\"1\" class=\"dataframe\">\n",
       "  <thead>\n",
       "    <tr style=\"text-align: right;\">\n",
       "      <th></th>\n",
       "      <th>Unnamed: 0</th>\n",
       "      <th>restaurant_name</th>\n",
       "      <th>Location</th>\n",
       "      <th>Cuisine</th>\n",
       "      <th>Price for 2</th>\n",
       "      <th>Ratings</th>\n",
       "      <th>Votes</th>\n",
       "    </tr>\n",
       "  </thead>\n",
       "  <tbody>\n",
       "    <tr>\n",
       "      <td>0</td>\n",
       "      <td>0</td>\n",
       "      <td>The Black Pearl</td>\n",
       "      <td>Sholinganallur</td>\n",
       "      <td>North Indian, European, Mediterranean, Contine...</td>\n",
       "      <td>1500</td>\n",
       "      <td>4.9</td>\n",
       "      <td>2857.0</td>\n",
       "    </tr>\n",
       "    <tr>\n",
       "      <td>1</td>\n",
       "      <td>1</td>\n",
       "      <td>Coal Barbecues</td>\n",
       "      <td>T. Nagar</td>\n",
       "      <td>North Indian, Mediterranean, Asian, Arabian, BBQ</td>\n",
       "      <td>1400</td>\n",
       "      <td>4.9</td>\n",
       "      <td>7320.0</td>\n",
       "    </tr>\n",
       "    <tr>\n",
       "      <td>2</td>\n",
       "      <td>2</td>\n",
       "      <td>Palmshore</td>\n",
       "      <td>Medavakkam</td>\n",
       "      <td>North Indian, Chinese, Arabian</td>\n",
       "      <td>700</td>\n",
       "      <td>4.5</td>\n",
       "      <td>441.0</td>\n",
       "    </tr>\n",
       "    <tr>\n",
       "      <td>3</td>\n",
       "      <td>3</td>\n",
       "      <td>Fromage</td>\n",
       "      <td>MRC Nagar</td>\n",
       "      <td>Cafe, Italian, French, European</td>\n",
       "      <td>1000</td>\n",
       "      <td>4.5</td>\n",
       "      <td>1073.0</td>\n",
       "    </tr>\n",
       "    <tr>\n",
       "      <td>4</td>\n",
       "      <td>4</td>\n",
       "      <td>Savoury Sea Shell</td>\n",
       "      <td>Anna Nagar East</td>\n",
       "      <td>Arabian, Chinese, North Indian, Lebanese, Salad</td>\n",
       "      <td>1400</td>\n",
       "      <td>4.1</td>\n",
       "      <td>2446.0</td>\n",
       "    </tr>\n",
       "  </tbody>\n",
       "</table>\n",
       "</div>"
      ],
      "text/plain": [
       "   Unnamed: 0    restaurant_name         Location  \\\n",
       "0           0    The Black Pearl   Sholinganallur   \n",
       "1           1     Coal Barbecues         T. Nagar   \n",
       "2           2          Palmshore       Medavakkam   \n",
       "3           3            Fromage        MRC Nagar   \n",
       "4           4  Savoury Sea Shell  Anna Nagar East   \n",
       "\n",
       "                                             Cuisine  Price for 2  Ratings  \\\n",
       "0  North Indian, European, Mediterranean, Contine...         1500      4.9   \n",
       "1   North Indian, Mediterranean, Asian, Arabian, BBQ         1400      4.9   \n",
       "2                     North Indian, Chinese, Arabian          700      4.5   \n",
       "3                    Cafe, Italian, French, European         1000      4.5   \n",
       "4    Arabian, Chinese, North Indian, Lebanese, Salad         1400      4.1   \n",
       "\n",
       "    Votes  \n",
       "0  2857.0  \n",
       "1  7320.0  \n",
       "2   441.0  \n",
       "3  1073.0  \n",
       "4  2446.0  "
      ]
     },
     "execution_count": 3,
     "metadata": {},
     "output_type": "execute_result"
    }
   ],
   "source": [
    "df.head()"
   ]
  },
  {
   "cell_type": "code",
   "execution_count": 4,
   "metadata": {},
   "outputs": [
    {
     "data": {
      "text/plain": [
       "0       False\n",
       "1       False\n",
       "2       False\n",
       "3       False\n",
       "4       False\n",
       "        ...  \n",
       "7437     True\n",
       "7438     True\n",
       "7439     True\n",
       "7440     True\n",
       "7441     True\n",
       "Name: Ratings, Length: 7442, dtype: bool"
      ]
     },
     "execution_count": 4,
     "metadata": {},
     "output_type": "execute_result"
    }
   ],
   "source": [
    "df['Ratings'].isnull()"
   ]
  },
  {
   "cell_type": "code",
   "execution_count": 5,
   "metadata": {},
   "outputs": [
    {
     "data": {
      "text/plain": [
       "Unnamed: 0            0\n",
       "restaurant_name       0\n",
       "Location              0\n",
       "Cuisine               0\n",
       "Price for 2           0\n",
       "Ratings            2635\n",
       "Votes              2639\n",
       "dtype: int64"
      ]
     },
     "execution_count": 5,
     "metadata": {},
     "output_type": "execute_result"
    }
   ],
   "source": [
    "missing_values = [\"invalid\"]\n",
    "df = pd.read_csv(\"update.csv\", na_values = missing_values)\n",
    "df.isnull().sum()"
   ]
  },
  {
   "cell_type": "code",
   "execution_count": 6,
   "metadata": {},
   "outputs": [
    {
     "data": {
      "text/plain": [
       "5274"
      ]
     },
     "execution_count": 6,
     "metadata": {},
     "output_type": "execute_result"
    }
   ],
   "source": [
    "df.isnull().sum().sum()"
   ]
  },
  {
   "cell_type": "code",
   "execution_count": 7,
   "metadata": {},
   "outputs": [
    {
     "data": {
      "text/html": [
       "<div>\n",
       "<style scoped>\n",
       "    .dataframe tbody tr th:only-of-type {\n",
       "        vertical-align: middle;\n",
       "    }\n",
       "\n",
       "    .dataframe tbody tr th {\n",
       "        vertical-align: top;\n",
       "    }\n",
       "\n",
       "    .dataframe thead th {\n",
       "        text-align: right;\n",
       "    }\n",
       "</style>\n",
       "<table border=\"1\" class=\"dataframe\">\n",
       "  <thead>\n",
       "    <tr style=\"text-align: right;\">\n",
       "      <th></th>\n",
       "      <th>Unnamed: 0</th>\n",
       "      <th>restaurant_name</th>\n",
       "      <th>Location</th>\n",
       "      <th>Cuisine</th>\n",
       "      <th>Price for 2</th>\n",
       "      <th>Ratings</th>\n",
       "      <th>Votes</th>\n",
       "    </tr>\n",
       "  </thead>\n",
       "  <tbody>\n",
       "    <tr>\n",
       "      <td>0</td>\n",
       "      <td>0</td>\n",
       "      <td>The Black Pearl</td>\n",
       "      <td>Sholinganallur</td>\n",
       "      <td>North Indian, European, Mediterranean, Contine...</td>\n",
       "      <td>1500</td>\n",
       "      <td>4.9</td>\n",
       "      <td>2857.0</td>\n",
       "    </tr>\n",
       "    <tr>\n",
       "      <td>1</td>\n",
       "      <td>1</td>\n",
       "      <td>Coal Barbecues</td>\n",
       "      <td>T. Nagar</td>\n",
       "      <td>North Indian, Mediterranean, Asian, Arabian, BBQ</td>\n",
       "      <td>1400</td>\n",
       "      <td>4.9</td>\n",
       "      <td>7320.0</td>\n",
       "    </tr>\n",
       "    <tr>\n",
       "      <td>2</td>\n",
       "      <td>2</td>\n",
       "      <td>Palmshore</td>\n",
       "      <td>Medavakkam</td>\n",
       "      <td>North Indian, Chinese, Arabian</td>\n",
       "      <td>700</td>\n",
       "      <td>4.5</td>\n",
       "      <td>441.0</td>\n",
       "    </tr>\n",
       "    <tr>\n",
       "      <td>3</td>\n",
       "      <td>3</td>\n",
       "      <td>Fromage</td>\n",
       "      <td>MRC Nagar</td>\n",
       "      <td>Cafe, Italian, French, European</td>\n",
       "      <td>1000</td>\n",
       "      <td>4.5</td>\n",
       "      <td>1073.0</td>\n",
       "    </tr>\n",
       "    <tr>\n",
       "      <td>4</td>\n",
       "      <td>4</td>\n",
       "      <td>Savoury Sea Shell</td>\n",
       "      <td>Anna Nagar East</td>\n",
       "      <td>Arabian, Chinese, North Indian, Lebanese, Salad</td>\n",
       "      <td>1400</td>\n",
       "      <td>4.1</td>\n",
       "      <td>2446.0</td>\n",
       "    </tr>\n",
       "    <tr>\n",
       "      <td>...</td>\n",
       "      <td>...</td>\n",
       "      <td>...</td>\n",
       "      <td>...</td>\n",
       "      <td>...</td>\n",
       "      <td>...</td>\n",
       "      <td>...</td>\n",
       "      <td>...</td>\n",
       "    </tr>\n",
       "    <tr>\n",
       "      <td>5462</td>\n",
       "      <td>5462</td>\n",
       "      <td>Chitra's Chat and Eat</td>\n",
       "      <td>Madhavaram</td>\n",
       "      <td>North Indian, South Indian</td>\n",
       "      <td>150</td>\n",
       "      <td>3.0</td>\n",
       "      <td>4.0</td>\n",
       "    </tr>\n",
       "    <tr>\n",
       "      <td>5466</td>\n",
       "      <td>5466</td>\n",
       "      <td>S.P Biriyani &amp; Fast Food</td>\n",
       "      <td>Anna Nagar West</td>\n",
       "      <td>Biryani</td>\n",
       "      <td>250</td>\n",
       "      <td>3.1</td>\n",
       "      <td>4.0</td>\n",
       "    </tr>\n",
       "    <tr>\n",
       "      <td>5467</td>\n",
       "      <td>5467</td>\n",
       "      <td>Hotel Manigandan</td>\n",
       "      <td>Tiruvottiyur</td>\n",
       "      <td>South Indian, Chinese, Biryani</td>\n",
       "      <td>400</td>\n",
       "      <td>3.0</td>\n",
       "      <td>4.0</td>\n",
       "    </tr>\n",
       "    <tr>\n",
       "      <td>5485</td>\n",
       "      <td>5485</td>\n",
       "      <td>Happy Fast Food</td>\n",
       "      <td>Saidapet</td>\n",
       "      <td>Chettinad, Chinese</td>\n",
       "      <td>250</td>\n",
       "      <td>3.0</td>\n",
       "      <td>4.0</td>\n",
       "    </tr>\n",
       "    <tr>\n",
       "      <td>5614</td>\n",
       "      <td>5614</td>\n",
       "      <td>Chimney Roof Top</td>\n",
       "      <td>Kodambakkam</td>\n",
       "      <td>North Indian, South Indian, Chinese</td>\n",
       "      <td>800</td>\n",
       "      <td>3.0</td>\n",
       "      <td>2.0</td>\n",
       "    </tr>\n",
       "  </tbody>\n",
       "</table>\n",
       "<p>4803 rows × 7 columns</p>\n",
       "</div>"
      ],
      "text/plain": [
       "      Unnamed: 0           restaurant_name         Location  \\\n",
       "0              0           The Black Pearl   Sholinganallur   \n",
       "1              1            Coal Barbecues         T. Nagar   \n",
       "2              2                 Palmshore       Medavakkam   \n",
       "3              3                   Fromage        MRC Nagar   \n",
       "4              4         Savoury Sea Shell  Anna Nagar East   \n",
       "...          ...                       ...              ...   \n",
       "5462        5462     Chitra's Chat and Eat       Madhavaram   \n",
       "5466        5466  S.P Biriyani & Fast Food  Anna Nagar West   \n",
       "5467        5467          Hotel Manigandan     Tiruvottiyur   \n",
       "5485        5485           Happy Fast Food         Saidapet   \n",
       "5614        5614          Chimney Roof Top      Kodambakkam   \n",
       "\n",
       "                                                Cuisine  Price for 2  Ratings  \\\n",
       "0     North Indian, European, Mediterranean, Contine...         1500      4.9   \n",
       "1      North Indian, Mediterranean, Asian, Arabian, BBQ         1400      4.9   \n",
       "2                        North Indian, Chinese, Arabian          700      4.5   \n",
       "3                       Cafe, Italian, French, European         1000      4.5   \n",
       "4       Arabian, Chinese, North Indian, Lebanese, Salad         1400      4.1   \n",
       "...                                                 ...          ...      ...   \n",
       "5462                         North Indian, South Indian          150      3.0   \n",
       "5466                                            Biryani          250      3.1   \n",
       "5467                     South Indian, Chinese, Biryani          400      3.0   \n",
       "5485                                 Chettinad, Chinese          250      3.0   \n",
       "5614                North Indian, South Indian, Chinese          800      3.0   \n",
       "\n",
       "       Votes  \n",
       "0     2857.0  \n",
       "1     7320.0  \n",
       "2      441.0  \n",
       "3     1073.0  \n",
       "4     2446.0  \n",
       "...      ...  \n",
       "5462     4.0  \n",
       "5466     4.0  \n",
       "5467     4.0  \n",
       "5485     4.0  \n",
       "5614     2.0  \n",
       "\n",
       "[4803 rows x 7 columns]"
      ]
     },
     "execution_count": 7,
     "metadata": {},
     "output_type": "execute_result"
    }
   ],
   "source": [
    "df.dropna()"
   ]
  },
  {
   "cell_type": "code",
   "execution_count": 8,
   "metadata": {},
   "outputs": [
    {
     "data": {
      "text/plain": [
       "130"
      ]
     },
     "execution_count": 8,
     "metadata": {},
     "output_type": "execute_result"
    }
   ],
   "source": [
    "len(df['Location'].value_counts())"
   ]
  },
  {
   "cell_type": "code",
   "execution_count": 11,
   "metadata": {},
   "outputs": [
    {
     "ename": "ValueError",
     "evalue": "Plot kind 'Count' is not recognized",
     "output_type": "error",
     "traceback": [
      "\u001b[1;31m---------------------------------------------------------------------------\u001b[0m",
      "\u001b[1;31mKeyError\u001b[0m                                  Traceback (most recent call last)",
      "\u001b[1;32mF:\\Conda\\lib\\site-packages\\seaborn\\categorical.py\u001b[0m in \u001b[0;36mcatplot\u001b[1;34m(x, y, hue, data, row, col, col_wrap, estimator, ci, n_boot, units, order, hue_order, row_order, col_order, kind, height, aspect, orient, color, palette, legend, legend_out, sharex, sharey, margin_titles, facet_kws, **kwargs)\u001b[0m\n\u001b[0;32m   3695\u001b[0m     \u001b[1;32mtry\u001b[0m\u001b[1;33m:\u001b[0m\u001b[1;33m\u001b[0m\u001b[1;33m\u001b[0m\u001b[0m\n\u001b[1;32m-> 3696\u001b[1;33m         \u001b[0mplot_func\u001b[0m \u001b[1;33m=\u001b[0m \u001b[0mglobals\u001b[0m\u001b[1;33m(\u001b[0m\u001b[1;33m)\u001b[0m\u001b[1;33m[\u001b[0m\u001b[0mkind\u001b[0m \u001b[1;33m+\u001b[0m \u001b[1;34m\"plot\"\u001b[0m\u001b[1;33m]\u001b[0m\u001b[1;33m\u001b[0m\u001b[1;33m\u001b[0m\u001b[0m\n\u001b[0m\u001b[0;32m   3697\u001b[0m     \u001b[1;32mexcept\u001b[0m \u001b[0mKeyError\u001b[0m\u001b[1;33m:\u001b[0m\u001b[1;33m\u001b[0m\u001b[1;33m\u001b[0m\u001b[0m\n",
      "\u001b[1;31mKeyError\u001b[0m: 'Countplot'",
      "\nDuring handling of the above exception, another exception occurred:\n",
      "\u001b[1;31mValueError\u001b[0m                                Traceback (most recent call last)",
      "\u001b[1;32m<ipython-input-11-e494a4bd5340>\u001b[0m in \u001b[0;36m<module>\u001b[1;34m\u001b[0m\n\u001b[0;32m      1\u001b[0m \u001b[0msns\u001b[0m\u001b[1;33m.\u001b[0m\u001b[0mset_context\u001b[0m\u001b[1;33m(\u001b[0m\u001b[1;34m\"paper\"\u001b[0m\u001b[1;33m,\u001b[0m \u001b[0mfont_scale\u001b[0m \u001b[1;33m=\u001b[0m \u001b[1;36m1\u001b[0m\u001b[1;33m,\u001b[0m \u001b[0mrc\u001b[0m \u001b[1;33m=\u001b[0m \u001b[1;33m{\u001b[0m\u001b[1;34m\"font.size\"\u001b[0m\u001b[1;33m:\u001b[0m \u001b[1;36m20\u001b[0m\u001b[1;33m,\u001b[0m\u001b[1;34m\"axes.titlesize\"\u001b[0m\u001b[1;33m:\u001b[0m \u001b[1;36m25\u001b[0m\u001b[1;33m,\u001b[0m\u001b[1;34m\"axes.labelsize\"\u001b[0m\u001b[1;33m:\u001b[0m \u001b[1;36m20\u001b[0m\u001b[1;33m}\u001b[0m\u001b[1;33m)\u001b[0m\u001b[1;33m\u001b[0m\u001b[1;33m\u001b[0m\u001b[0m\n\u001b[1;32m----> 2\u001b[1;33m \u001b[0mb\u001b[0m \u001b[1;33m=\u001b[0m \u001b[0msns\u001b[0m\u001b[1;33m.\u001b[0m\u001b[0mcatplot\u001b[0m\u001b[1;33m(\u001b[0m\u001b[0mdata\u001b[0m \u001b[1;33m=\u001b[0m \u001b[0mdf\u001b[0m\u001b[1;33m,\u001b[0m \u001b[0mkind\u001b[0m \u001b[1;33m=\u001b[0m \u001b[1;34m'Count'\u001b[0m\u001b[1;33m,\u001b[0m \u001b[0mx\u001b[0m \u001b[1;33m=\u001b[0m \u001b[1;34m'Ratings'\u001b[0m\u001b[1;33m,\u001b[0m \u001b[0morder\u001b[0m \u001b[1;33m=\u001b[0m \u001b[0mdf\u001b[0m\u001b[1;33m[\u001b[0m\u001b[1;34m'Ratings'\u001b[0m\u001b[1;33m]\u001b[0m\u001b[1;33m.\u001b[0m\u001b[0mvalue_counts\u001b[0m\u001b[1;33m(\u001b[0m\u001b[1;33m)\u001b[0m\u001b[1;33m.\u001b[0m\u001b[0mindex\u001b[0m\u001b[1;33m)\u001b[0m\u001b[1;33m\u001b[0m\u001b[1;33m\u001b[0m\u001b[0m\n\u001b[0m\u001b[0;32m      3\u001b[0m \u001b[0mplt\u001b[0m\u001b[1;33m.\u001b[0m\u001b[0mtitle\u001b[0m\u001b[1;33m(\u001b[0m\u001b[1;34m'Number of restaurants for each rating'\u001b[0m\u001b[1;33m)\u001b[0m\u001b[1;33m\u001b[0m\u001b[1;33m\u001b[0m\u001b[0m\n\u001b[0;32m      4\u001b[0m \u001b[0mb\u001b[0m\u001b[1;33m.\u001b[0m\u001b[0mset_xticklabels\u001b[0m\u001b[1;33m(\u001b[0m\u001b[0mrotation\u001b[0m \u001b[1;33m=\u001b[0m \u001b[1;36m90\u001b[0m\u001b[1;33m)\u001b[0m\u001b[1;33m\u001b[0m\u001b[1;33m\u001b[0m\u001b[0m\n\u001b[0;32m      5\u001b[0m \u001b[0mplt\u001b[0m\u001b[1;33m.\u001b[0m\u001b[0mshow\u001b[0m\u001b[1;33m(\u001b[0m\u001b[1;33m)\u001b[0m\u001b[1;33m\u001b[0m\u001b[1;33m\u001b[0m\u001b[0m\n",
      "\u001b[1;32mF:\\Conda\\lib\\site-packages\\seaborn\\categorical.py\u001b[0m in \u001b[0;36mcatplot\u001b[1;34m(x, y, hue, data, row, col, col_wrap, estimator, ci, n_boot, units, order, hue_order, row_order, col_order, kind, height, aspect, orient, color, palette, legend, legend_out, sharex, sharey, margin_titles, facet_kws, **kwargs)\u001b[0m\n\u001b[0;32m   3697\u001b[0m     \u001b[1;32mexcept\u001b[0m \u001b[0mKeyError\u001b[0m\u001b[1;33m:\u001b[0m\u001b[1;33m\u001b[0m\u001b[1;33m\u001b[0m\u001b[0m\n\u001b[0;32m   3698\u001b[0m         \u001b[0merr\u001b[0m \u001b[1;33m=\u001b[0m \u001b[1;34m\"Plot kind '{}' is not recognized\"\u001b[0m\u001b[1;33m.\u001b[0m\u001b[0mformat\u001b[0m\u001b[1;33m(\u001b[0m\u001b[0mkind\u001b[0m\u001b[1;33m)\u001b[0m\u001b[1;33m\u001b[0m\u001b[1;33m\u001b[0m\u001b[0m\n\u001b[1;32m-> 3699\u001b[1;33m         \u001b[1;32mraise\u001b[0m \u001b[0mValueError\u001b[0m\u001b[1;33m(\u001b[0m\u001b[0merr\u001b[0m\u001b[1;33m)\u001b[0m\u001b[1;33m\u001b[0m\u001b[1;33m\u001b[0m\u001b[0m\n\u001b[0m\u001b[0;32m   3700\u001b[0m \u001b[1;33m\u001b[0m\u001b[0m\n\u001b[0;32m   3701\u001b[0m     \u001b[1;31m# Alias the input variables to determine categorical order and palette\u001b[0m\u001b[1;33m\u001b[0m\u001b[1;33m\u001b[0m\u001b[1;33m\u001b[0m\u001b[0m\n",
      "\u001b[1;31mValueError\u001b[0m: Plot kind 'Count' is not recognized"
     ]
    }
   ],
   "source": []
  },
  {
   "cell_type": "code",
   "execution_count": null,
   "metadata": {},
   "outputs": [],
   "source": []
  }
 ],
 "metadata": {
  "kernelspec": {
   "display_name": "Python 3",
   "language": "python",
   "name": "python3"
  },
  "language_info": {
   "codemirror_mode": {
    "name": "ipython",
    "version": 3
   },
   "file_extension": ".py",
   "mimetype": "text/x-python",
   "name": "python",
   "nbconvert_exporter": "python",
   "pygments_lexer": "ipython3",
   "version": "3.7.4"
  }
 },
 "nbformat": 4,
 "nbformat_minor": 2
}
